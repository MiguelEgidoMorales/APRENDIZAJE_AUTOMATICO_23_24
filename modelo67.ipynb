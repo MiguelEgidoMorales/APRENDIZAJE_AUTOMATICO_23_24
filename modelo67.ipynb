{
  "cells": [
    {
      "cell_type": "markdown",
      "metadata": {
        "id": "view-in-github",
        "colab_type": "text"
      },
      "source": [
        "<a href=\"https://colab.research.google.com/github/MiguelEgidoMorales/APRENDIZAJE_AUTOMATICO_23_24/blob/main/modelo67.ipynb\" target=\"_parent\"><img src=\"https://colab.research.google.com/assets/colab-badge.svg\" alt=\"Open In Colab\"/></a>"
      ]
    },
    {
      "cell_type": "markdown",
      "source": [],
      "metadata": {
        "id": "abU6tbG3c7X3"
      }
    },
    {
      "cell_type": "markdown",
      "source": [],
      "metadata": {
        "id": "uKYbDsTBp_fk"
      }
    },
    {
      "cell_type": "code",
      "source": [
        "!wget https://www.dropbox.com/s/fuld3z222j9t1oy/vs_release_16k.zip"
      ],
      "metadata": {
        "id": "OzR5rSL6c5x7",
        "outputId": "289fccb2-a5c6-44d1-9a9a-6d8ca957f7b6",
        "colab": {
          "base_uri": "https://localhost:8080/"
        }
      },
      "execution_count": 1,
      "outputs": [
        {
          "output_type": "stream",
          "name": "stdout",
          "text": [
            "--2024-04-22 18:56:50--  https://www.dropbox.com/s/fuld3z222j9t1oy/vs_release_16k.zip\n",
            "Resolving www.dropbox.com (www.dropbox.com)... 162.125.2.18, 2620:100:6027:18::a27d:4812\n",
            "Connecting to www.dropbox.com (www.dropbox.com)|162.125.2.18|:443... connected.\n",
            "HTTP request sent, awaiting response... 302 Found\n",
            "Location: /s/raw/fuld3z222j9t1oy/vs_release_16k.zip [following]\n",
            "--2024-04-22 18:56:50--  https://www.dropbox.com/s/raw/fuld3z222j9t1oy/vs_release_16k.zip\n",
            "Reusing existing connection to www.dropbox.com:443.\n",
            "HTTP request sent, awaiting response... 302 Found\n",
            "Location: https://uca95778b39deb59b89958e07dce.dl.dropboxusercontent.com/cd/0/inline/CRhdOoaqBtHF3m6xUdnaauSIFS2kIprWBhnx7rZMepu_z_8HAkfAtNbAa8KfrApUKc-uvcSTwnyvcJJABYhVCfwdZY4f2l3dtNUqzl57AtUu4IXhJiUcdHu_C-6vlTX7CtGjgLrFIadwfngaFkusm6Nc/file# [following]\n",
            "--2024-04-22 18:56:51--  https://uca95778b39deb59b89958e07dce.dl.dropboxusercontent.com/cd/0/inline/CRhdOoaqBtHF3m6xUdnaauSIFS2kIprWBhnx7rZMepu_z_8HAkfAtNbAa8KfrApUKc-uvcSTwnyvcJJABYhVCfwdZY4f2l3dtNUqzl57AtUu4IXhJiUcdHu_C-6vlTX7CtGjgLrFIadwfngaFkusm6Nc/file\n",
            "Resolving uca95778b39deb59b89958e07dce.dl.dropboxusercontent.com (uca95778b39deb59b89958e07dce.dl.dropboxusercontent.com)... 162.125.65.15, 2620:100:6027:15::a27d:480f\n",
            "Connecting to uca95778b39deb59b89958e07dce.dl.dropboxusercontent.com (uca95778b39deb59b89958e07dce.dl.dropboxusercontent.com)|162.125.65.15|:443... connected.\n",
            "HTTP request sent, awaiting response... 302 Found\n",
            "Location: /cd/0/inline2/CRiaFyieLUXrlgv9hRW5NvEedOp6zy0I2-3Bp12bMywXjyGuiFbNEzNX3hb1ljS2XXkKkBQCzBtBWNDYxuHxFQRpfbV5RckRzMliXKaBxtcbOKYnCAXGiAL9BlKgYRbPbG27kzPPPXEGh_PcEGg8F66g2sJfsPHpOny3Ad5-Q92NgbWaWeDrXm0-zYIp9dM__CeNqEpU0ZJz244o4-F2Q5jtIy2Ia1-cDMmjnU6l4id5kc-aO65B-41BGoSCCAODmQLr-TVKjP5YCGFbkCt3GiziHbGkUU-OHsl4-0h5FJwvCdQ3NQfLxWsm8kPT8HUPWzKsjf9EUjiQ99bkeT8Sa1r7EwUYURnbLuZ7aYVLuY56NXT5dTLESd7Tp80OgUZb6hU/file [following]\n",
            "--2024-04-22 18:56:52--  https://uca95778b39deb59b89958e07dce.dl.dropboxusercontent.com/cd/0/inline2/CRiaFyieLUXrlgv9hRW5NvEedOp6zy0I2-3Bp12bMywXjyGuiFbNEzNX3hb1ljS2XXkKkBQCzBtBWNDYxuHxFQRpfbV5RckRzMliXKaBxtcbOKYnCAXGiAL9BlKgYRbPbG27kzPPPXEGh_PcEGg8F66g2sJfsPHpOny3Ad5-Q92NgbWaWeDrXm0-zYIp9dM__CeNqEpU0ZJz244o4-F2Q5jtIy2Ia1-cDMmjnU6l4id5kc-aO65B-41BGoSCCAODmQLr-TVKjP5YCGFbkCt3GiziHbGkUU-OHsl4-0h5FJwvCdQ3NQfLxWsm8kPT8HUPWzKsjf9EUjiQ99bkeT8Sa1r7EwUYURnbLuZ7aYVLuY56NXT5dTLESd7Tp80OgUZb6hU/file\n",
            "Reusing existing connection to uca95778b39deb59b89958e07dce.dl.dropboxusercontent.com:443.\n",
            "HTTP request sent, awaiting response... 200 OK\n",
            "Length: 1775595589 (1.7G) [application/zip]\n",
            "Saving to: ‘vs_release_16k.zip’\n",
            "\n",
            "vs_release_16k.zip  100%[===================>]   1.65G  17.8MB/s    in 87s     \n",
            "\n",
            "2024-04-22 18:58:21 (19.5 MB/s) - ‘vs_release_16k.zip’ saved [1775595589/1775595589]\n",
            "\n"
          ]
        }
      ]
    },
    {
      "cell_type": "code",
      "source": [
        "import os\n",
        "\n",
        "zip_filename = 'vs_release_16k.zip'\n",
        "\n",
        "if not os.path.exists(zip_filename):\n",
        "    os.system(\"wget https://www.dropbox.com/s/fuld3z222j9t1oy/vs_release_16k.zip\")"
      ],
      "metadata": {
        "id": "xWdThgO4qAr7"
      },
      "execution_count": 2,
      "outputs": []
    },
    {
      "cell_type": "markdown",
      "metadata": {
        "id": "uR7UfICDLRgx"
      },
      "source": [
        "Dentro de vs_release_16k.zip descomprimimos:  \n",
        "- audio_16k  \n",
        "\n",
        "Nos servimos del módulo zipfile para descomprimir.  "
      ]
    },
    {
      "cell_type": "code",
      "source": [
        "import os\n",
        "from zipfile import ZipFile\n",
        "from concurrent.futures import ThreadPoolExecutor\n",
        "\n",
        "audio_dir = 'audio_16k/'\n",
        "\n",
        "if not os.path.exists(audio_dir):\n",
        "    with ZipFile(zip_filename, 'r') as zf:\n",
        "        with ThreadPoolExecutor() as exe:\n",
        "            for file in zf.namelist():\n",
        "                if file.startswith(audio_dir):\n",
        "                    exe.submit(zf.extract, file)"
      ],
      "metadata": {
        "id": "sEMe-1rtp17-"
      },
      "execution_count": 3,
      "outputs": []
    },
    {
      "cell_type": "code",
      "source": [
        "import tensorflow as tf\n",
        "\n",
        "audio_dir = 'audio_16k/'\n",
        "seed = 42\n",
        "\n",
        "tf.random.set_seed(seed)\n",
        "\n",
        "filenames = tf.io.gfile.glob(audio_dir + '*')\n",
        "filenames = tf.random.shuffle(filenames, seed)\n",
        "\n",
        "print('Total audios:', len(filenames))\n",
        "print('Example:', filenames.shape)"
      ],
      "metadata": {
        "colab": {
          "base_uri": "https://localhost:8080/"
        },
        "id": "ypXddMsVZA-M",
        "outputId": "bbaac75a-44a9-4956-9698-0cac9c5aae6d"
      },
      "execution_count": 4,
      "outputs": [
        {
          "output_type": "stream",
          "name": "stdout",
          "text": [
            "Total audios: 21024\n",
            "Example: (21024,)\n"
          ]
        }
      ]
    },
    {
      "cell_type": "code",
      "source": [
        "vocal_sounds = ['cough', 'laughter', 'sigh', 'sneeze', 'sniff', 'throatclearing']\n",
        "num_sounds = len(vocal_sounds)\n",
        "\n",
        "test_file = filenames[0]\n",
        "def get_label(file_path):\n",
        "  label = tf.strings.split(\n",
        "    input=file_path,\n",
        "    sep='_')[-1]\n",
        "\n",
        "  label = tf.strings.split(\n",
        "    input=label,\n",
        "    sep='.')[0]\n",
        "\n",
        "  label = tf.where(label==vocal_sounds)\n",
        "  label = tf.reshape(label, ())\n",
        "  return label\n",
        "\n",
        "get_label(test_file), test_file"
      ],
      "metadata": {
        "colab": {
          "base_uri": "https://localhost:8080/"
        },
        "id": "41hDfCPBb4iS",
        "outputId": "4047e4ed-8e3a-42d9-e5f5-e8dcb8ce4514"
      },
      "execution_count": 5,
      "outputs": [
        {
          "output_type": "execute_result",
          "data": {
            "text/plain": [
              "(<tf.Tensor: shape=(), dtype=int64, numpy=0>,\n",
              " <tf.Tensor: shape=(), dtype=string, numpy=b'audio_16k/m2018_0_cough.wav'>)"
            ]
          },
          "metadata": {},
          "execution_count": 5
        }
      ]
    },
    {
      "cell_type": "code",
      "source": [
        "std_len = 64000\n",
        "def get_signal(file_path):\n",
        "  audio_binary = tf.io.read_file(file_path)\n",
        "  signal = tf.audio.decode_wav(audio_binary)[0]\n",
        "  signal = signal[:std_len]\n",
        "  signal = tf.pad(signal, [[0, std_len-len(signal)], [0, 0]])\n",
        "  return tf.squeeze(signal, axis=-1)\n",
        "\n",
        "get_signal(test_file), test_file"
      ],
      "metadata": {
        "colab": {
          "base_uri": "https://localhost:8080/"
        },
        "id": "Wt7HzlPLo6gf",
        "outputId": "977e9f69-5e5e-4b3b-be82-214be3b968f9"
      },
      "execution_count": 6,
      "outputs": [
        {
          "output_type": "execute_result",
          "data": {
            "text/plain": [
              "(<tf.Tensor: shape=(64000,), dtype=float32, numpy=\n",
              " array([-7.6293945e-04, -2.4414062e-04, -9.7656250e-04, ...,\n",
              "        -2.1279907e-01, -3.0291748e-01,  1.2298584e-02], dtype=float32)>,\n",
              " <tf.Tensor: shape=(), dtype=string, numpy=b'audio_16k/m2018_0_cough.wav'>)"
            ]
          },
          "metadata": {},
          "execution_count": 6
        }
      ]
    },
    {
      "cell_type": "code",
      "source": [
        "AUTOTUNE = tf.data.AUTOTUNE\n",
        "ds_files = tf.data.Dataset.from_tensor_slices(filenames)\n",
        "ds_signals = ds_files.map(lambda x: (get_signal(x), get_label(x)), num_parallel_calls=AUTOTUNE)\n",
        "ds_files.element_spec, ds_signals.element_spec"
      ],
      "metadata": {
        "id": "kQMUH4QNbZ3P",
        "colab": {
          "base_uri": "https://localhost:8080/"
        },
        "outputId": "fc30124a-da2a-41b1-f79f-b1e7e05ada43"
      },
      "execution_count": 7,
      "outputs": [
        {
          "output_type": "execute_result",
          "data": {
            "text/plain": [
              "(TensorSpec(shape=(), dtype=tf.string, name=None),\n",
              " (TensorSpec(shape=(None,), dtype=tf.float32, name=None),\n",
              "  TensorSpec(shape=(), dtype=tf.int64, name=None)))"
            ]
          },
          "metadata": {},
          "execution_count": 7
        }
      ]
    },
    {
      "cell_type": "code",
      "source": [
        "import matplotlib.pyplot as plt\n",
        "for elem in ds_signals.take(1):\n",
        "  signal, label = elem\n",
        "  plt.plot(signal)\n",
        "  plt.title(vocal_sounds[label])"
      ],
      "metadata": {
        "colab": {
          "base_uri": "https://localhost:8080/",
          "height": 452
        },
        "id": "tpy5OW7Fs1Ek",
        "outputId": "c264ab3a-81f9-4e7f-fcbb-90bb335cc2ea"
      },
      "execution_count": 8,
      "outputs": [
        {
          "output_type": "display_data",
          "data": {
            "text/plain": [
              "<Figure size 640x480 with 1 Axes>"
            ],
            "image/png": "[encoded data removed]"
          },
          "metadata": {}
        }
      ]
    },
    {
      "cell_type": "code",
      "source": [
        "def remove_shortaudio(filename):\n",
        "  if get_signal(filename).shape[0] < min_len:\n",
        "    tf.io.gfile.remove(filename)\n",
        "\n",
        "initial_file_count = 21024\n",
        "\n",
        "if len(filenames) >= initial_file_count:\n",
        "  # Remove less than 0.1s audios (16kHz then 1600 frames)\n",
        "  min_len = 1600\n",
        "  with ThreadPoolExecutor() as exe:\n",
        "    for file in filenames:\n",
        "      exe.submit(remove_shortaudio, file)\n",
        "\n",
        "  filenames = tf.io.gfile.glob(audio_dir + '*')\n",
        "\n",
        "print('Total audios:', len(filenames))\n"
      ],
      "metadata": {
        "id": "xvcOpKxRtE3d",
        "colab": {
          "base_uri": "https://localhost:8080/"
        },
        "outputId": "d3d129aa-7ade-4374-f704-da8422684ac3"
      },
      "execution_count": 9,
      "outputs": [
        {
          "output_type": "stream",
          "name": "stdout",
          "text": [
            "Total audios: 21024\n"
          ]
        }
      ]
    },
    {
      "cell_type": "code",
      "source": [
        "ds_files = tf.data.Dataset.from_tensor_slices(filenames)\n",
        "ds_signals = ds_files.map(lambda x: (get_signal(x), get_label(x)), num_parallel_calls=AUTOTUNE)"
      ],
      "metadata": {
        "id": "1Jncnq4ocKsY"
      },
      "execution_count": 10,
      "outputs": []
    },
    {
      "cell_type": "code",
      "source": [
        "for elem in ds_signals.take(1):\n",
        "  print(elem)"
      ],
      "metadata": {
        "colab": {
          "base_uri": "https://localhost:8080/"
        },
        "id": "y9yA9_bQlv1M",
        "outputId": "40a55588-f88c-40d2-f765-7d73ae74a876"
      },
      "execution_count": 11,
      "outputs": [
        {
          "output_type": "stream",
          "name": "stdout",
          "text": [
            "(<tf.Tensor: shape=(64000,), dtype=float32, numpy=\n",
            "array([-0.02871704,  0.10049438,  0.20117188, ...,  0.        ,\n",
            "        0.        ,  0.        ], dtype=float32)>, <tf.Tensor: shape=(), dtype=int64, numpy=1>)\n"
          ]
        }
      ]
    },
    {
      "cell_type": "code",
      "source": [
        "def normalize(audio, label):\n",
        "  label = tf.one_hot(label, len(vocal_sounds))\n",
        "  return audio, label\n",
        "\n",
        "ds_signals = ds_signals.map(normalize).cache()"
      ],
      "metadata": {
        "id": "3dST_H_VmB_A"
      },
      "execution_count": 12,
      "outputs": []
    },
    {
      "cell_type": "code",
      "source": [
        "for elem in ds_signals.take(1):\n",
        "  print(elem)"
      ],
      "metadata": {
        "colab": {
          "base_uri": "https://localhost:8080/"
        },
        "id": "nYTpsGb3MtS_",
        "outputId": "4582028f-9ace-4a30-9be8-8548144e1c9d"
      },
      "execution_count": 13,
      "outputs": [
        {
          "output_type": "stream",
          "name": "stdout",
          "text": [
            "(<tf.Tensor: shape=(64000,), dtype=float32, numpy=\n",
            "array([-0.02871704,  0.10049438,  0.20117188, ...,  0.        ,\n",
            "        0.        ,  0.        ], dtype=float32)>, <tf.Tensor: shape=(6,), dtype=float32, numpy=array([0., 1., 0., 0., 0., 0.], dtype=float32)>)\n"
          ]
        }
      ]
    },
    {
      "cell_type": "code",
      "source": [
        "ds_signals.element_spec"
      ],
      "metadata": {
        "id": "MntLIWZJcFdb",
        "outputId": "277620a6-dd30-41f3-8c18-466a00c3dc39",
        "colab": {
          "base_uri": "https://localhost:8080/"
        }
      },
      "execution_count": 14,
      "outputs": [
        {
          "output_type": "execute_result",
          "data": {
            "text/plain": [
              "(TensorSpec(shape=(None,), dtype=tf.float32, name=None),\n",
              " TensorSpec(shape=(6,), dtype=tf.float32, name=None))"
            ]
          },
          "metadata": {},
          "execution_count": 14
        }
      ]
    },
    {
      "cell_type": "code",
      "execution_count": 15,
      "metadata": {
        "id": "AtLbAh6jLRg8"
      },
      "outputs": [],
      "source": [
        "num_train = len(ds_signals)\n",
        "\n",
        "RATIO = 0.2\n",
        "test_size = int(RATIO * num_train)\n",
        "\n",
        "ds_train = ds_signals.skip(test_size)\n",
        "ds_test = ds_signals.take(test_size)"
      ]
    },
    {
      "cell_type": "code",
      "execution_count": 16,
      "metadata": {
        "id": "IwiMw9keLRg8"
      },
      "outputs": [],
      "source": [
        "num_train = len(ds_train)\n",
        "\n",
        "RATIO = 0.2\n",
        "validation_size = int(RATIO * num_train)\n",
        "\n",
        "ds_fit = ds_signals.skip(validation_size)\n",
        "ds_val = ds_signals.take(validation_size)"
      ]
    },
    {
      "cell_type": "code",
      "execution_count": 17,
      "metadata": {
        "id": "fkTw9s3lLRg9"
      },
      "outputs": [],
      "source": [
        "AUTOTUNE = tf.data.AUTOTUNE\n",
        "BATCH_SIZE = 128\n",
        "ds_fit = (\n",
        "    ds_fit\n",
        "    .cache()\n",
        "    .shuffle(len(ds_fit))\n",
        "    .batch(BATCH_SIZE)\n",
        "    .prefetch(AUTOTUNE)\n",
        ")\n",
        "\n",
        "ds_val = (\n",
        "    ds_val\n",
        "    .cache()\n",
        "    .batch(BATCH_SIZE)\n",
        "    .prefetch(tf.data.AUTOTUNE)\n",
        ")"
      ]
    },
    {
      "cell_type": "code",
      "execution_count": 18,
      "metadata": {
        "id": "cq9rBe_GLRg9"
      },
      "outputs": [],
      "source": [
        "from tensorflow.keras.callbacks import EarlyStopping, ReduceLROnPlateau\n",
        "\n",
        "# Reduce learning rate\n",
        "reduce_lr = ReduceLROnPlateau(monitor='val_accuracy', factor=0.2, patience=4, min_lr=0.0001)\n",
        "\n",
        "epoch_wait = 5\n",
        "# Crear el EarlyStopping callback con la función on_train_end\n",
        "early_stopping = EarlyStopping(monitor='val_loss', mode='min', verbose=1, patience=epoch_wait)\n",
        "\n",
        "# Definimos los callbacks\n",
        "callbacks = [early_stopping, reduce_lr]"
      ]
    },
    {
      "cell_type": "code",
      "execution_count": 19,
      "metadata": {
        "id": "ZBl67bkdLRg-"
      },
      "outputs": [],
      "source": [
        "# Establecer la semilla global\n",
        "seed_value = 42\n",
        "tf.random.set_seed(seed_value)"
      ]
    },
    {
      "cell_type": "code",
      "execution_count": 29,
      "metadata": {
        "id": "v_jh0jR1LRg-",
        "colab": {
          "base_uri": "https://localhost:8080/"
        },
        "outputId": "e5e2b997-ae0d-4ccf-89af-568eb685c42e"
      },
      "outputs": [
        {
          "output_type": "stream",
          "name": "stdout",
          "text": [
            "Model: \"sequential_4\"\n",
            "_________________________________________________________________\n",
            " Layer (type)                Output Shape              Param #   \n",
            "=================================================================\n",
            " conv1d_16 (Conv1D)          (None, 63998, 64)         256       \n",
            "                                                                 \n",
            " max_pooling1d_15 (MaxPooli  (None, 31999, 64)         0         \n",
            " ng1D)                                                           \n",
            "                                                                 \n",
            " conv1d_17 (Conv1D)          (None, 31997, 64)         12352     \n",
            "                                                                 \n",
            " max_pooling1d_16 (MaxPooli  (None, 15998, 64)         0         \n",
            " ng1D)                                                           \n",
            "                                                                 \n",
            " conv1d_18 (Conv1D)          (None, 15996, 64)         12352     \n",
            "                                                                 \n",
            " max_pooling1d_17 (MaxPooli  (None, 7998, 64)          0         \n",
            " ng1D)                                                           \n",
            "                                                                 \n",
            " conv1d_19 (Conv1D)          (None, 7996, 64)          12352     \n",
            "                                                                 \n",
            " max_pooling1d_18 (MaxPooli  (None, 3998, 64)          0         \n",
            " ng1D)                                                           \n",
            "                                                                 \n",
            " flatten_4 (Flatten)         (None, 255872)            0         \n",
            "                                                                 \n",
            " dense_9 (Dense)             (None, 64)                16375872  \n",
            "                                                                 \n",
            " dense_10 (Dense)            (None, 6)                 390       \n",
            "                                                                 \n",
            "=================================================================\n",
            "Total params: 16413574 (62.61 MB)\n",
            "Trainable params: 16413574 (62.61 MB)\n",
            "Non-trainable params: 0 (0.00 Byte)\n",
            "_________________________________________________________________\n"
          ]
        }
      ],
      "source": [
        "import tensorflow as tf\n",
        "from tensorflow.keras import Sequential\n",
        "from tensorflow.keras.layers import Dense, Dropout\n",
        "from tensorflow.keras.layers import Conv1D, MaxPooling1D, Flatten\n",
        "\n",
        "model = Sequential([\n",
        "    Conv1D(64, 3, activation='relu', input_shape=(64000, 1)),\n",
        "    MaxPooling1D(2),\n",
        "    Conv1D(64, 3, activation='relu'),\n",
        "    MaxPooling1D(2),\n",
        "    Conv1D(64, 3, activation='relu'),\n",
        "    MaxPooling1D(2),\n",
        "    Conv1D(64, 3, activation='relu'),\n",
        "    MaxPooling1D(2),\n",
        "    Flatten(),\n",
        "\n",
        "    Dense(64, activation='relu'),\n",
        "    Dense(6, activation='softmax')  # Usar softmax para clasificación multiclase\n",
        "])\n",
        "\n",
        "model.compile(optimizer='adam', loss='binary_crossentropy', metrics=['accuracy'])\n",
        "\n",
        "# Print model summary\n",
        "model.summary()\n",
        "\n",
        "# Train the model\n"
      ]
    },
    {
      "cell_type": "code",
      "execution_count": 30,
      "metadata": {
        "id": "__X9T6ZQLRg-",
        "colab": {
          "base_uri": "https://localhost:8080/"
        },
        "outputId": "4825d8ec-9761-41f5-d412-5c1b0dec78f8"
      },
      "outputs": [
        {
          "output_type": "stream",
          "name": "stdout",
          "text": [
            "Epoch 1/100\n",
            "138/138 [==============================] - 129s 873ms/step - loss: 0.3938 - accuracy: 0.4159 - val_loss: 0.3380 - val_accuracy: 0.5413 - lr: 0.0010\n",
            "Epoch 2/100\n",
            "138/138 [==============================] - 110s 798ms/step - loss: 0.2979 - accuracy: 0.6200 - val_loss: 0.3097 - val_accuracy: 0.5999 - lr: 0.0010\n",
            "Epoch 3/100\n",
            "138/138 [==============================] - 113s 816ms/step - loss: 0.2315 - accuracy: 0.7315 - val_loss: 0.3175 - val_accuracy: 0.6109 - lr: 0.0010\n",
            "Epoch 4/100\n",
            "138/138 [==============================] - 110s 799ms/step - loss: 0.1570 - accuracy: 0.8384 - val_loss: 0.3696 - val_accuracy: 0.6156 - lr: 0.0010\n",
            "Epoch 5/100\n",
            "138/138 [==============================] - 110s 801ms/step - loss: 0.0923 - accuracy: 0.9159 - val_loss: 0.4881 - val_accuracy: 0.5987 - lr: 0.0010\n",
            "Epoch 6/100\n",
            "138/138 [==============================] - 113s 819ms/step - loss: 0.0592 - accuracy: 0.9517 - val_loss: 0.6553 - val_accuracy: 0.5862 - lr: 0.0010\n",
            "Epoch 7/100\n",
            "138/138 [==============================] - 114s 822ms/step - loss: 0.0384 - accuracy: 0.9683 - val_loss: 0.7118 - val_accuracy: 0.5969 - lr: 0.0010\n",
            "Epoch 7: early stopping\n"
          ]
        }
      ],
      "source": [
        "history = model.fit(ds_fit, epochs=100, validation_data=ds_val, callbacks=callbacks)"
      ]
    },
    {
      "cell_type": "code",
      "execution_count": 31,
      "metadata": {
        "id": "i0r_yhAALRg_",
        "colab": {
          "base_uri": "https://localhost:8080/"
        },
        "outputId": "089db172-cd91-432e-e1c1-9988915831e9"
      },
      "outputs": [
        {
          "output_type": "stream",
          "name": "stdout",
          "text": [
            "33/33 [==============================] - 13s 384ms/step - loss: 0.5742 - accuracy: 0.6736\n",
            "Test accuracy: 0.6736441254615784\n"
          ]
        }
      ],
      "source": [
        "BATCH_SIZE = 128\n",
        "ds_eval = (\n",
        "    ds_test.cache()\n",
        "    .batch(BATCH_SIZE)\n",
        "    .prefetch(AUTOTUNE)\n",
        ")\n",
        "test_loss, test_acc = model.evaluate(ds_eval)\n",
        "\n",
        "print('Test accuracy:', test_acc)"
      ]
    }
  ],
  "metadata": {
    "kernelspec": {
      "display_name": "Python 3",
      "name": "python3"
    },
    "language_info": {
      "codemirror_mode": {
        "name": "ipython",
        "version": 3
      },
      "file_extension": ".py",
      "mimetype": "text/x-python",
      "name": "python",
      "nbconvert_exporter": "python",
      "pygments_lexer": "ipython3",
      "version": "3.11.4"
    },
    "colab": {
      "provenance": [],
      "gpuType": "T4",
      "include_colab_link": true
    },
    "accelerator": "GPU"
  },
  "nbformat": 4,
  "nbformat_minor": 0
}